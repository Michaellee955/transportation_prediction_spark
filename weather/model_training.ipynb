{
 "cells": [
  {
   "cell_type": "markdown",
   "metadata": {},
   "source": [
    "get the filename"
   ]
  },
  {
   "cell_type": "code",
   "execution_count": 67,
   "metadata": {},
   "outputs": [],
   "source": [
    "import csv\n",
    "import os\n",
    "import pandas as pd\n",
    "import numpy as np\n",
    "\n",
    "dir_path = os.path.dirname(os.path.realpath('feature_selection.ipynb'))\n",
    "datasets_folder = dir_path +'/datasets'\n",
    "\n",
    "filenames = []\n",
    "for file in os.listdir(datasets_folder):\n",
    "    filenames.append(os.fsdecode(file))    "
   ]
  },
  {
   "cell_type": "markdown",
   "metadata": {},
   "source": [
    "### dataset"
   ]
  },
  {
   "cell_type": "code",
   "execution_count": 68,
   "metadata": {},
   "outputs": [],
   "source": [
    "from sklearn.model_selection import train_test_split, KFold\n",
    "from sklearn.preprocessing import MinMaxScaler\n",
    "sc = MinMaxScaler(feature_range = (0,1))\n",
    "\n",
    "def dataset_reshape(scaled):\n",
    "    X_train = []\n",
    "    y_train = []\n",
    "    \n",
    "    length = scaled.shape[0]\n",
    "    for i in range(60,length):\n",
    "        X_train.append(scaled[i-60:i,0])\n",
    "        y_train.append(scaled[i,0])\n",
    "    X_train,y_train = np.array(X_train),np.array(y_train)\n",
    "    X_train = np.reshape(X_train,(X_train.shape[0],X_train.shape[1],1))\n",
    "    return X_train,y_train\n",
    "\n",
    "def getdatasets_ml(filename):\n",
    "    filename_new = filename.replace('.csv','')\n",
    "    line,stationID,stationDIR = filename_new.split('_')\n",
    "    cur_dir = datasets_folder+'/'+filename\n",
    "    data = pd.read_csv(cur_dir,header=None)\n",
    "    data.columns = ['month','date','hour','temp','pressure','humidity',\n",
    "                   'wind_speed','wind_direction','clouds','weather_code',\n",
    "                   'minute','delay']\n",
    "    X = data[['hour','temp','pressure','humidity','wind_speed','clouds','weather_code','minute']]\n",
    "    y = data.iloc[:,11]\n",
    "    X_train,X_test, y_train, y_test = train_test_split(X,y,test_size=0.2)\n",
    "    \n",
    "    return X_train,X_test, y_train, y_test\n",
    "\n",
    "def getdatasets_lstm(filename):\n",
    "    filename_new = filename.replace('.csv','')\n",
    "    line,stationID,stationDIR = filename_new.split('_')\n",
    "    cur_dir = datasets_folder+'/'+filename\n",
    "    data = pd.read_csv(cur_dir,header=None)\n",
    "    data.columns = ['month','date','hour','temp','pressure','humidity',\n",
    "                   'wind_speed','wind_direction','clouds','weather_code',\n",
    "                   'minute','delay']\n",
    "    training_set = data.iloc[:,11:].values\n",
    "    #training_set_reshape = training_set.reshape(-1,1)\n",
    "    data_scaled = sc.fit_transform(training_set)\n",
    "    train, test = train_test_split(data_scaled,test_size=0.1)\n",
    "    X_train,y_train = dataset_reshape(train)\n",
    "    X_test,y_test = dataset_reshape(test)\n",
    "    \n",
    "    return X_train, X_test, y_train, y_test"
   ]
  },
  {
   "cell_type": "markdown",
   "metadata": {},
   "source": [
    "## random forest"
   ]
  },
  {
   "cell_type": "code",
   "execution_count": 69,
   "metadata": {},
   "outputs": [],
   "source": [
    "from sklearn.ensemble import RandomForestRegressor\n",
    "from matplotlib import pyplot as plt\n",
    "\n",
    "regr = RandomForestRegressor(max_depth=2,random_state=0)    "
   ]
  },
  {
   "cell_type": "markdown",
   "metadata": {},
   "source": [
    "## kernel ridge regression"
   ]
  },
  {
   "cell_type": "code",
   "execution_count": 70,
   "metadata": {},
   "outputs": [],
   "source": [
    "from sklearn.kernel_ridge import KernelRidge\n",
    "from sklearn.model_selection import GridSearchCV\n",
    "\n",
    "def param_tuned(X_train,X_test, y_train, y_test):  \n",
    "    tuned_parameters = [{'kernel':['rbf'],\n",
    "                     'gamma':[1e-3,1e-4,1e-2,0.1,1],\n",
    "                     'alpha':[0.1,1,10,100,1000]}]\n",
    "    \n",
    "    \n",
    "    clf = GridSearchCV(KernelRidge(),tuned_parameters,cv=5)\n",
    "    clf.fit(X_train,y_train)\n",
    "    return clf.best_params_ \n",
    "\n",
    "def krr_model(X_train,X_test, y_train, y_test):\n",
    "    param = param_tuned(X_train,X_test, y_train, y_test)\n",
    "    krr =  KernelRidge(alpha=param['alpha'],kernel=param['kernel'],gamma=param['gamma'])\n",
    "    return krr"
   ]
  },
  {
   "cell_type": "markdown",
   "metadata": {},
   "source": [
    "## LSTM"
   ]
  },
  {
   "cell_type": "code",
   "execution_count": 71,
   "metadata": {},
   "outputs": [],
   "source": [
    "from keras.models import Sequential\n",
    "from keras.layers import Dense\n",
    "from keras.layers import LSTM\n",
    "from keras.layers import Dropout\n",
    "\n",
    "def rnn_regr(X_train,X_test,y_train,y_test):\n",
    "    #Initialize the RNN\n",
    "    regressor = Sequential()\n",
    "    regressor.add(LSTM(units=50,return_sequences=True, input_shape=(X_train.shape[1],1)))\n",
    "    regressor.add(Dropout(0.3))\n",
    "\n",
    "    # add a second LSTM layer\n",
    "    regressor.add(LSTM(units = 32, return_sequences = True))\n",
    "    regressor.add(Dropout(0.3))\n",
    "    \n",
    "    # add a forth LSTM layer\n",
    "    regressor.add(LSTM(units = 32, return_sequences = False))\n",
    "    regressor.add(Dropout(0.3))\n",
    "\n",
    "    # add a output layer\n",
    "    regressor.add(Dense(units = 1))\n",
    "\n",
    "    # Compiling the RNN\n",
    "    regressor.compile(optimizer = 'adam', loss = 'mean_squared_error')\n",
    "    \n",
    "    return regressor"
   ]
  },
  {
   "cell_type": "code",
   "execution_count": 72,
   "metadata": {},
   "outputs": [],
   "source": [
    "def heatmap(train):\n",
    "    colormap = plt.cm.RdBu\n",
    "    plt.figure(figsize=(14,12))\n",
    "\n",
    "    plt.title('correlation of features',y=1.05,size=15)\n",
    "    sns.heatmap(train.astype(float).corr(),linewidths=0.1,vmax=1.0, \n",
    "            square=True, cmap=colormap, linecolor='white', annot=True)"
   ]
  },
  {
   "cell_type": "code",
   "execution_count": 76,
   "metadata": {},
   "outputs": [],
   "source": [
    "from sklearn.base import BaseEstimator, TransformerMixin, RegressorMixin, clone\n",
    "\n",
    "class StackingAveragedModels(BaseEstimator, RegressorMixin, TransformerMixin):\n",
    "    def __init__(self, base_models, meta_model, n_folds=3):\n",
    "        self.base_models = base_models\n",
    "        self.meta_model = meta_model\n",
    "        self.n_folds = n_folds\n",
    "   \n",
    "    # We again fit the data on clones of the original models\n",
    "    def fit(self, X, y):\n",
    "        self.base_models_ = [list() for x in self.base_models]\n",
    "        self.meta_model_ = clone(self.meta_model)\n",
    "        kfold = KFold(n_splits=self.n_folds, shuffle=True, random_state=156)\n",
    "        \n",
    "        # Train cloned base models then create out-of-fold predictions\n",
    "        # that are needed to train the cloned meta-model\n",
    "        out_of_fold_predictions = np.zeros((X.shape[0], len(self.base_models)))\n",
    "        for i, model in enumerate(self.base_models):\n",
    "            for train_index, holdout_index in kfold.split(X, y):\n",
    "                instance = clone(model)\n",
    "                self.base_models_[i].append(model)\n",
    "                model.fit(X[train_index], y[train_index])\n",
    "                y_pred = model.predict(X[holdout_index])\n",
    "                out_of_fold_predictions[holdout_index, i] = y_pred\n",
    "                \n",
    "        # Now train the cloned  meta-model using the out-of-fold predictions as new feature\n",
    "        self.meta_model_.fit(out_of_fold_predictions, y)\n",
    "        return self\n",
    "   \n",
    "    #Do the predictions of all base models on the test data and use the averaged predictions as \n",
    "    #meta-features for the final prediction which is done by the meta-model\n",
    "    def predict(self, X):\n",
    "        meta_features = np.column_stack([\n",
    "            np.column_stack([model.predict(X) for model in base_models]).mean(axis=1)\n",
    "            for base_models in self.base_models_])\n",
    "        return self.meta_model_.predict(meta_features)"
   ]
  },
  {
   "cell_type": "code",
   "execution_count": null,
   "metadata": {},
   "outputs": [
    {
     "name": "stderr",
     "output_type": "stream",
     "text": [
      "/Users/michael/anaconda3/lib/python3.6/site-packages/sklearn/utils/validation.py:475: DataConversionWarning: Data with input dtype int64 was converted to float64 by MinMaxScaler.\n",
      "  warnings.warn(msg, DataConversionWarning)\n"
     ]
    },
    {
     "name": "stdout",
     "output_type": "stream",
     "text": [
      "2_201_S.csv\n",
      "1.0634444729385564\n",
      "1.03704705690007\n",
      "(5924,)\n",
      "(5924,)\n"
     ]
    },
    {
     "data": {
      "image/png": "[encoded data removed]",
      "text/plain": [
       "<matplotlib.figure.Figure at 0x10ab5c128>"
      ]
     },
     "metadata": {},
     "output_type": "display_data"
    },
    {
     "name": "stderr",
     "output_type": "stream",
     "text": [
      "/Users/michael/anaconda3/lib/python3.6/site-packages/sklearn/utils/validation.py:475: DataConversionWarning: Data with input dtype int64 was converted to float64 by MinMaxScaler.\n",
      "  warnings.warn(msg, DataConversionWarning)\n"
     ]
    }
   ],
   "source": [
    "from sklearn.linear_model import Lasso\n",
    "from sklearn.pipeline import make_pipeline\n",
    "from sklearn.preprocessing import RobustScaler\n",
    "from sklearn.metrics import mean_squared_error\n",
    "import pickle\n",
    "\n",
    "lasso = make_pipeline(RobustScaler(), Lasso(alpha =0.0005, random_state=1))\n",
    "\n",
    "def main_function(filenames,dir_path):\n",
    "    mse_train_sum = 0\n",
    "    mse_test_sum = 0\n",
    "    for filename in filenames:\n",
    "        X_ml_train,X_ml_test, y_ml_train, y_ml_test=getdatasets_ml(filename)\n",
    "        X_lstm_train,X_lstm_test, y_lstm_train, y_lstm_test=getdatasets_lstm(filename)\n",
    "        \n",
    "        krr = krr_model(X_ml_train,X_ml_test, y_ml_train, y_ml_test)\n",
    "        \n",
    "        stacked_averaged_models = StackingAveragedModels(base_models = (regr, krr),meta_model = lasso)\n",
    "        stacked_averaged_models.fit(X_ml_train.values, y_ml_train.values)\n",
    "        \n",
    "        model_dir = dir_path + '/models/'+ filename+'.sav'\n",
    "        pickle.dump(stacked_averaged_models,open(model_dir,'wb'))\n",
    "        \n",
    "        # load the model from disk\n",
    "        loaded_model = pickle.load(open(model_dir, 'rb'))\n",
    "        \n",
    "        y_train_pred = loaded_model.predict(X_ml_train)\n",
    "        y_test_pred = loaded_model.predict(X_ml_test)\n",
    "        \n",
    "        mse_train = mean_squared_error(y_train_pred,y_ml_train)\n",
    "        mse_test = mean_squared_error(y_test_pred,y_ml_test)\n",
    "        \n",
    "        mse_train_sum += mse_train\n",
    "        mse_test_sum += mse_test\n",
    "        \n",
    "        print(filename)\n",
    "        print(mse_train)\n",
    "        print(mse_test)\n",
    "        \n",
    "        print(y_ml_train.shape)\n",
    "        print(y_train_pred.shape)\n",
    "        \n",
    "        # Visualising the results\n",
    "        y_ml_train=y_ml_train.tolist()\n",
    "        y_train_pred=y_train_pred.tolist()\n",
    "        plt.plot(y_ml_train[:100], label = 'Real delay time')\n",
    "        plt.plot(y_train_pred[:100], label = 'Predicted delay time')\n",
    "        plt.title('New York subway delay time')\n",
    "        plt.xlabel('Time')\n",
    "        plt.ylabel('Delay time')\n",
    "        plt.legend()\n",
    "        plt.show()\n",
    "        \n",
    "    mse_train_sum /= len(filenames)\n",
    "    mse_test_sum /= len(filenames)\n",
    "    \n",
    "    print('average mse for training and testing are {},{}'.format(mse_train_sum,mse_test_sum))\n",
    "main_function(filenames,dir_path)        "
   ]
  },
  {
   "cell_type": "code",
   "execution_count": null,
   "metadata": {},
   "outputs": [],
   "source": []
  }
 ],
 "metadata": {
  "kernelspec": {
   "display_name": "Python 3",
   "language": "python",
   "name": "python3"
  },
  "language_info": {
   "codemirror_mode": {
    "name": "ipython",
    "version": 3
   },
   "file_extension": ".py",
   "mimetype": "text/x-python",
   "name": "python",
   "nbconvert_exporter": "python",
   "pygments_lexer": "ipython3",
   "version": "3.6.4"
  }
 },
 "nbformat": 4,
 "nbformat_minor": 2
}
